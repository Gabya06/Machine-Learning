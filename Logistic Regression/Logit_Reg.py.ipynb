{
 "metadata": {
  "name": "",
  "signature": "sha256:80df4c97664c228a068aab0d04a8b06593f6a2527b8163ecb67b8856413da338"
 },
 "nbformat": 3,
 "nbformat_minor": 0,
 "worksheets": [
  {
   "cells": [
    {
     "cell_type": "markdown",
     "metadata": {},
     "source": [
      "Logitstic Regression to Predict Low Birth Weight of Newborns.\n",
      "Data Description: https://www.umass.edu/statdata/statdata/data/lowbwt.txt\n",
      "Data: http://www.umass.edu/statdata/statdata/data/lowbwt.dat"
     ]
    },
    {
     "cell_type": "code",
     "collapsed": false,
     "input": [
      "import pandas as pd\n",
      "import numpy as np\n",
      "import matplotlib.pyplot as plt\n",
      "import os"
     ],
     "language": "python",
     "metadata": {},
     "outputs": [],
     "prompt_number": 2
    },
    {
     "cell_type": "code",
     "collapsed": false,
     "input": [
      "print os.getcwd()"
     ],
     "language": "python",
     "metadata": {},
     "outputs": [
      {
       "output_type": "stream",
       "stream": "stdout",
       "text": [
        "/home/priya/Git Projects/Machine Learning/Logistic Regression\n"
       ]
      }
     ],
     "prompt_number": 5
    },
    {
     "cell_type": "code",
     "collapsed": false,
     "input": [
      "data = pd.read_csv('LowBirthWeight.csv')\n",
      "print data.head()"
     ],
     "language": "python",
     "metadata": {},
     "outputs": [
      {
       "output_type": "stream",
       "stream": "stdout",
       "text": [
        "   ID  LOW  AGE  LWT  RACE  SMOKE  PTL  HT  UI  FTV   BWT\n",
        "0  85    0   19  182     2      0    0   0   1    0  2523\n",
        "1  86    0   33  155     3      0    0   0   0    3  2551\n",
        "2  87    0   20  105     1      1    0   0   0    1  2557\n",
        "3  88    0   21  108     1      1    0   0   1    2  2594\n",
        "4  89    0   18  107     1      1    0   0   1    0  2600\n",
        "\n",
        "[5 rows x 11 columns]\n"
       ]
      }
     ],
     "prompt_number": 13
    }
   ],
   "metadata": {}
  }
 ]
}